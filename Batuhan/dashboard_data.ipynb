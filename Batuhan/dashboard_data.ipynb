{
 "cells": [
  {
   "cell_type": "code",
   "execution_count": 1,
   "id": "6dc71ec5",
   "metadata": {},
   "outputs": [],
   "source": [
    "# Dependencies\n",
    "import pandas as pd"
   ]
  },
  {
   "cell_type": "markdown",
   "id": "0af74de8",
   "metadata": {},
   "source": [
    "## Merging Rent, Population and Amenities Data for Dashboard Use\n"
   ]
  },
  {
   "cell_type": "markdown",
   "id": "af4cc3fd",
   "metadata": {},
   "source": [
    "This script ***merges city rent & population data with amenities data (hospitals, schools, supermarkets)***, calculates population-normalized metrics (per 100k), and saves the result as 'dashboard_data.csv' to be used in an interactive data visualization dashboard."
   ]
  },
  {
   "cell_type": "code",
   "execution_count": 2,
   "id": "eeaac2cf",
   "metadata": {},
   "outputs": [],
   "source": [
    "# Load the data files\n",
    "rent_df = pd.read_csv(\"Output/city_rent_population.csv\")\n",
    "amenities_df = pd.read_csv(\"Output/city_amenities_data.csv\")"
   ]
  },
  {
   "cell_type": "code",
   "execution_count": 3,
   "id": "28060aac",
   "metadata": {},
   "outputs": [],
   "source": [
    "# Prepare and clean\n",
    "amenities_df.rename(columns={\"Unnamed: 0\": \"City\"}, inplace=True)\n",
    "rent_df[\"City\"] = rent_df[\"City\"].str.strip()"
   ]
  },
  {
   "cell_type": "code",
   "execution_count": 4,
   "id": "afe553c6",
   "metadata": {},
   "outputs": [
    {
     "data": {
      "text/html": [
       "<div>\n",
       "<style scoped>\n",
       "    .dataframe tbody tr th:only-of-type {\n",
       "        vertical-align: middle;\n",
       "    }\n",
       "\n",
       "    .dataframe tbody tr th {\n",
       "        vertical-align: top;\n",
       "    }\n",
       "\n",
       "    .dataframe thead th {\n",
       "        text-align: right;\n",
       "    }\n",
       "</style>\n",
       "<table border=\"1\" class=\"dataframe\">\n",
       "  <thead>\n",
       "    <tr style=\"text-align: right;\">\n",
       "      <th></th>\n",
       "      <th>City</th>\n",
       "      <th>location</th>\n",
       "      <th>hospitals_count</th>\n",
       "      <th>hospitals</th>\n",
       "      <th>hospitals_locations</th>\n",
       "      <th>supermarkets_count</th>\n",
       "      <th>supermarkets</th>\n",
       "      <th>supermarkets_locations</th>\n",
       "      <th>universities_count</th>\n",
       "      <th>universities</th>\n",
       "      <th>universities_locations</th>\n",
       "    </tr>\n",
       "  </thead>\n",
       "  <tbody>\n",
       "    <tr>\n",
       "      <th>0</th>\n",
       "      <td>Toronto</td>\n",
       "      <td>[-79.3839347, 43.6534817]</td>\n",
       "      <td>20</td>\n",
       "      <td>[\"St. Michael's Hospital\", 'Sunnybrook Health ...</td>\n",
       "      <td>[[-79.37780684414469, 43.6536408], [-79.375541...</td>\n",
       "      <td>20.0</td>\n",
       "      <td>['Great Food Supermarket', 'Real Canadian Supe...</td>\n",
       "      <td>[[-79.3008100311174, 43.71870199999999], [-79....</td>\n",
       "      <td>NaN</td>\n",
       "      <td>NaN</td>\n",
       "      <td>NaN</td>\n",
       "    </tr>\n",
       "    <tr>\n",
       "      <th>1</th>\n",
       "      <td>Montreal</td>\n",
       "      <td>[-73.5698065, 45.5031824]</td>\n",
       "      <td>20</td>\n",
       "      <td>['Institut universitaire en santé mentale de M...</td>\n",
       "      <td>[[-73.53062953615134, 45.58879855], [-73.56349...</td>\n",
       "      <td>20.0</td>\n",
       "      <td>['Metro', 'Kim Phat', 'Costco', 'Provigo', 'Ma...</td>\n",
       "      <td>[[-73.46754094764486, 45.4565319], [-73.605678...</td>\n",
       "      <td>20.0</td>\n",
       "      <td>['Université de Montréal', 'HEC Montréal', 'Mc...</td>\n",
       "      <td>[[-73.61454175576318, 45.50475765], [-73.62212...</td>\n",
       "    </tr>\n",
       "    <tr>\n",
       "      <th>2</th>\n",
       "      <td>Calgary</td>\n",
       "      <td>[-114.057541, 51.0456064]</td>\n",
       "      <td>9</td>\n",
       "      <td>['Foothills Medical Centre', 'Peter Lougheed C...</td>\n",
       "      <td>[[-114.13505565301116, 51.06541815], [-113.984...</td>\n",
       "      <td>20.0</td>\n",
       "      <td>['Calgary Co-op Dalhousie Centre', 'Real Canad...</td>\n",
       "      <td>[[-114.14635434125222, 51.10284365], [-113.984...</td>\n",
       "      <td>6.0</td>\n",
       "      <td>['University of Calgary', 'Mount Royal Univers...</td>\n",
       "      <td>[[-114.13876168856827, 51.07505395], [-114.130...</td>\n",
       "    </tr>\n",
       "    <tr>\n",
       "      <th>3</th>\n",
       "      <td>Ottawa</td>\n",
       "      <td>[-75.6901106, 45.4208777]</td>\n",
       "      <td>12</td>\n",
       "      <td>[\"Children's Hospital of Eastern Ontario\", 'Hô...</td>\n",
       "      <td>[[-75.65146146979367, 45.40148025], [-75.63940...</td>\n",
       "      <td>NaN</td>\n",
       "      <td>NaN</td>\n",
       "      <td>NaN</td>\n",
       "      <td>8.0</td>\n",
       "      <td>['Carleton University', 'University of Ottawa'...</td>\n",
       "      <td>[[-75.69500411688679, 45.3858581], [-75.683390...</td>\n",
       "    </tr>\n",
       "    <tr>\n",
       "      <th>4</th>\n",
       "      <td>Edmonton</td>\n",
       "      <td>[-113.491241, 53.5462055]</td>\n",
       "      <td>20</td>\n",
       "      <td>['Glenrose Rehabilitation Hospital', 'Royal Al...</td>\n",
       "      <td>[[-113.49834793893291, 53.56024635], [-113.497...</td>\n",
       "      <td>20.0</td>\n",
       "      <td>['Forum Law LLP', 'Safeway', 'Real Canadian Su...</td>\n",
       "      <td>[[-113.5774657, 53.5711513], [-113.51357822124...</td>\n",
       "      <td>6.0</td>\n",
       "      <td>['University of Alberta', 'Campus St-Jean', 'B...</td>\n",
       "      <td>[[-113.5244937350756, 53.52682], [-113.4698526...</td>\n",
       "    </tr>\n",
       "  </tbody>\n",
       "</table>\n",
       "</div>"
      ],
      "text/plain": [
       "       City                   location  hospitals_count  \\\n",
       "0   Toronto  [-79.3839347, 43.6534817]               20   \n",
       "1  Montreal  [-73.5698065, 45.5031824]               20   \n",
       "2   Calgary  [-114.057541, 51.0456064]                9   \n",
       "3    Ottawa  [-75.6901106, 45.4208777]               12   \n",
       "4  Edmonton  [-113.491241, 53.5462055]               20   \n",
       "\n",
       "                                           hospitals  \\\n",
       "0  [\"St. Michael's Hospital\", 'Sunnybrook Health ...   \n",
       "1  ['Institut universitaire en santé mentale de M...   \n",
       "2  ['Foothills Medical Centre', 'Peter Lougheed C...   \n",
       "3  [\"Children's Hospital of Eastern Ontario\", 'Hô...   \n",
       "4  ['Glenrose Rehabilitation Hospital', 'Royal Al...   \n",
       "\n",
       "                                 hospitals_locations  supermarkets_count  \\\n",
       "0  [[-79.37780684414469, 43.6536408], [-79.375541...                20.0   \n",
       "1  [[-73.53062953615134, 45.58879855], [-73.56349...                20.0   \n",
       "2  [[-114.13505565301116, 51.06541815], [-113.984...                20.0   \n",
       "3  [[-75.65146146979367, 45.40148025], [-75.63940...                 NaN   \n",
       "4  [[-113.49834793893291, 53.56024635], [-113.497...                20.0   \n",
       "\n",
       "                                        supermarkets  \\\n",
       "0  ['Great Food Supermarket', 'Real Canadian Supe...   \n",
       "1  ['Metro', 'Kim Phat', 'Costco', 'Provigo', 'Ma...   \n",
       "2  ['Calgary Co-op Dalhousie Centre', 'Real Canad...   \n",
       "3                                                NaN   \n",
       "4  ['Forum Law LLP', 'Safeway', 'Real Canadian Su...   \n",
       "\n",
       "                              supermarkets_locations  universities_count  \\\n",
       "0  [[-79.3008100311174, 43.71870199999999], [-79....                 NaN   \n",
       "1  [[-73.46754094764486, 45.4565319], [-73.605678...                20.0   \n",
       "2  [[-114.14635434125222, 51.10284365], [-113.984...                 6.0   \n",
       "3                                                NaN                 8.0   \n",
       "4  [[-113.5774657, 53.5711513], [-113.51357822124...                 6.0   \n",
       "\n",
       "                                        universities  \\\n",
       "0                                                NaN   \n",
       "1  ['Université de Montréal', 'HEC Montréal', 'Mc...   \n",
       "2  ['University of Calgary', 'Mount Royal Univers...   \n",
       "3  ['Carleton University', 'University of Ottawa'...   \n",
       "4  ['University of Alberta', 'Campus St-Jean', 'B...   \n",
       "\n",
       "                              universities_locations  \n",
       "0                                                NaN  \n",
       "1  [[-73.61454175576318, 45.50475765], [-73.62212...  \n",
       "2  [[-114.13876168856827, 51.07505395], [-114.130...  \n",
       "3  [[-75.69500411688679, 45.3858581], [-75.683390...  \n",
       "4  [[-113.5244937350756, 53.52682], [-113.4698526...  "
      ]
     },
     "execution_count": 4,
     "metadata": {},
     "output_type": "execute_result"
    }
   ],
   "source": [
    "amenities_df.head()"
   ]
  },
  {
   "cell_type": "code",
   "execution_count": 5,
   "id": "b5408658",
   "metadata": {},
   "outputs": [
    {
     "data": {
      "text/plain": [
       "Index(['City', 'location', 'hospitals_count', 'hospitals',\n",
       "       'hospitals_locations', 'supermarkets_count', 'supermarkets',\n",
       "       'supermarkets_locations', 'universities_count', 'universities',\n",
       "       'universities_locations'],\n",
       "      dtype='object')"
      ]
     },
     "execution_count": 5,
     "metadata": {},
     "output_type": "execute_result"
    }
   ],
   "source": [
    "amenities_df.columns"
   ]
  },
  {
   "cell_type": "code",
   "execution_count": null,
   "id": "4a0b07ec",
   "metadata": {},
   "outputs": [],
   "source": []
  }
 ],
 "metadata": {
  "kernelspec": {
   "display_name": "Python 3 (ipykernel)",
   "language": "python",
   "name": "python3"
  },
  "language_info": {
   "codemirror_mode": {
    "name": "ipython",
    "version": 3
   },
   "file_extension": ".py",
   "mimetype": "text/x-python",
   "name": "python",
   "nbconvert_exporter": "python",
   "pygments_lexer": "ipython3",
   "version": "3.11.5"
  }
 },
 "nbformat": 4,
 "nbformat_minor": 5
}
