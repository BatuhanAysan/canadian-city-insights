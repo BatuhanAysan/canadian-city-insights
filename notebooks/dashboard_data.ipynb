{
 "cells": [
  {
   "cell_type": "code",
   "execution_count": 1,
   "id": "6dc71ec5",
   "metadata": {},
   "outputs": [],
   "source": [
    "# Dependencies\n",
    "import pandas as pd"
   ]
  },
  {
   "cell_type": "markdown",
   "id": "0af74de8",
   "metadata": {},
   "source": [
    "## Merging Rent, Population and Amenities Data for Dashboard Use\n"
   ]
  },
  {
   "cell_type": "markdown",
   "id": "af4cc3fd",
   "metadata": {},
   "source": [
    "This script ***merges city rent & population data with amenities data (hospitals, schools, supermarkets)***, calculates population-normalized metrics (per 100k), and saves the result as 'dashboard_data.csv' to be used in an interactive data visualization dashboard."
   ]
  },
  {
   "cell_type": "code",
   "execution_count": null,
   "id": "eeaac2cf",
   "metadata": {},
   "outputs": [],
   "source": [
    "# Load the data files\n",
    "rent_df = pd.read_csv(\"../Output/city_rent_population.csv\")\n",
    "amenities_df = pd.read_csv(\"../Output/city_amenities_data.csv\")"
   ]
  },
  {
   "cell_type": "code",
   "execution_count": 3,
   "id": "28060aac",
   "metadata": {},
   "outputs": [],
   "source": [
    "# Prepare and clean\n",
    "amenities_df.rename(columns={\"Unnamed: 0\": \"City\"}, inplace=True)\n",
    "rent_df[\"City\"] = rent_df[\"City\"].str.strip()"
   ]
  },
  {
   "cell_type": "code",
   "execution_count": 6,
   "id": "4a0b07ec",
   "metadata": {},
   "outputs": [],
   "source": [
    "# Merge on 'City'\n",
    "merged_df = pd.merge(rent_df, amenities_df, on=\"City\", how=\"inner\")"
   ]
  },
  {
   "cell_type": "code",
   "execution_count": 8,
   "id": "ba55ee3e",
   "metadata": {},
   "outputs": [],
   "source": [
    "# Calculate amenities per 100k population\n",
    "merged_df[\"hospitals_per_100k\"] = (merged_df[\"hospitals_count\"] / merged_df[\"Population(2021)\"]) * 100000\n",
    "merged_df[\"schools_per_100k\"] = (merged_df[\"universities_count\"] / merged_df[\"Population(2021)\"]) * 100000\n",
    "merged_df[\"groceries_per_100k\"] = (merged_df[\"supermarkets_count\"] / merged_df[\"Population(2021)\"]) * 100000"
   ]
  },
  {
   "cell_type": "code",
   "execution_count": null,
   "id": "f650e292",
   "metadata": {},
   "outputs": [
    {
     "name": "stdout",
     "output_type": "stream",
     "text": [
      "✅ 'dashboard_data.csv' created successfully.\n"
     ]
    }
   ],
   "source": [
    "# Save final dataset for dashboard use\n",
    "merged_df.to_csv(\"../Output/dashboard_data.csv\", index=False)\n",
    "\n",
    "print(\"✅ 'dashboard_data.csv' created successfully.\")"
   ]
  },
  {
   "cell_type": "code",
   "execution_count": null,
   "id": "d49e4389",
   "metadata": {},
   "outputs": [],
   "source": []
  }
 ],
 "metadata": {
  "kernelspec": {
   "display_name": "Python 3 (ipykernel)",
   "language": "python",
   "name": "python3"
  },
  "language_info": {
   "codemirror_mode": {
    "name": "ipython",
    "version": 3
   },
   "file_extension": ".py",
   "mimetype": "text/x-python",
   "name": "python",
   "nbconvert_exporter": "python",
   "pygments_lexer": "ipython3",
   "version": "3.11.5"
  }
 },
 "nbformat": 4,
 "nbformat_minor": 5
}
