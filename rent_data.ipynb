{
 "cells": [
  {
   "cell_type": "code",
   "execution_count": 1,
   "id": "75cda132",
   "metadata": {},
   "outputs": [],
   "source": [
    "# Dependencies\n",
    "import pandas as pd"
   ]
  },
  {
   "cell_type": "markdown",
   "id": "33dcf559",
   "metadata": {},
   "source": [
    "# Top 10 Major Cities Rent in Canada"
   ]
  },
  {
   "cell_type": "markdown",
   "id": "1c7c9e7b",
   "metadata": {},
   "source": [
    "### Source: https://rentals.ca/national-rent-report#rentalsca-data"
   ]
  },
  {
   "cell_type": "code",
   "execution_count": 2,
   "id": "bb7a3a3e",
   "metadata": {},
   "outputs": [],
   "source": [
    "# Read the raw CSV file (encoding fixed)\n",
    "df = pd.read_csv(\"Resources/cities_rents.csv\", encoding=\"ISO-8859-1\")"
   ]
  },
  {
   "cell_type": "code",
   "execution_count": 3,
   "id": "4171719d",
   "metadata": {},
   "outputs": [],
   "source": [
    "# Rename relevant columns for clarity\n",
    "df.columns = ['Rank', 'City', 'Rent_1Bedroom', 'M/M_1B', 'Y/Y_1B', 'Rent_2Bedroom', 'M/M_2B', 'Y/Y_2B']"
   ]
  },
  {
   "cell_type": "code",
   "execution_count": 4,
   "id": "778eafdc",
   "metadata": {},
   "outputs": [],
   "source": [
    "# Strip whitespace from city names\n",
    "df['City'] = df['City'].str.strip()"
   ]
  },
  {
   "cell_type": "code",
   "execution_count": 5,
   "id": "8c470d5a",
   "metadata": {},
   "outputs": [],
   "source": [
    "# Define the 10 cities to include\n",
    "target_cities = [\n",
    "    \"Toronto\",\"Montreal\",\"Calgary\", \"Ottawa\", \"Edmonton\", \"Winnipeg\",\n",
    "    \"Mississauga\", \"Vancouver\", \"Brampton\", \"Hamilton\",\n",
    "]"
   ]
  },
  {
   "cell_type": "code",
   "execution_count": 6,
   "id": "c28331ee",
   "metadata": {},
   "outputs": [],
   "source": [
    "# Filter the DataFrame to only include those 10 cities\n",
    "df_filtered = df[df['City'].isin(target_cities)].copy()"
   ]
  },
  {
   "cell_type": "code",
   "execution_count": 7,
   "id": "b005c7e1",
   "metadata": {},
   "outputs": [],
   "source": [
    "# Map each city to its province\n",
    "province_map = {\n",
    "    \"Toronto\": \"Ontario\", \"Montreal\": \"Quebec\", \"Calgary\": \"Alberta\",\n",
    "    \"Ottawa\": \"Ontario\", \"Edmonton\": \"Alberta\", \"Winnipeg\": \"Manitoba\",\n",
    "    \"Mississauga\": \"Ontario\", \"Vancouver\": \"British Columbia\", \"Brampton\": \"Ontario\",\n",
    "    \"Hamilton\": \"Ontario\",\n",
    "}\n",
    "df_filtered['Province'] = df_filtered['City'].map(province_map)"
   ]
  },
  {
   "cell_type": "code",
   "execution_count": 8,
   "id": "bd6cc8cb",
   "metadata": {},
   "outputs": [],
   "source": [
    "# Clean rent values: remove $ and commas, convert to float\n",
    "df_filtered['Rent_1Bedroom'] = df_filtered['Rent_1Bedroom'].replace('[\\$,]', '', regex=True).astype(float)\n",
    "df_filtered['Rent_2Bedroom'] = df_filtered['Rent_2Bedroom'].replace('[\\$,]', '', regex=True).astype(float)"
   ]
  },
  {
   "cell_type": "code",
   "execution_count": 9,
   "id": "93095a2e",
   "metadata": {},
   "outputs": [],
   "source": [
    "# Map each city to its population\n",
    "population_map = {\n",
    "    \"Toronto\": 2794356, \"Montreal\": 1762949, \"Calgary\": 1306784,\n",
    "    \"Ottawa\": 1017449, \"Edmonton\": 1010899, \"Winnipeg\": 749607,\n",
    "    \"Mississauga\": 717961, \"Vancouver\": 662248, \"Brampton\": 656480,\n",
    "    \"Hamilton\": 569353,\n",
    "}\n",
    "df_filtered['Population(2021)'] = df_filtered['City'].map(population_map)"
   ]
  },
  {
   "cell_type": "code",
   "execution_count": 10,
   "id": "c817ff3e",
   "metadata": {},
   "outputs": [],
   "source": [
    "# Keep only relevant columns\n",
    "df_final = df_filtered[['City', 'Province','Population(2021)', 'Rent_1Bedroom', 'Rent_2Bedroom']]"
   ]
  },
  {
   "cell_type": "code",
   "execution_count": 11,
   "id": "b2c6a119",
   "metadata": {},
   "outputs": [
    {
     "data": {
      "text/html": [
       "<div>\n",
       "<style scoped>\n",
       "    .dataframe tbody tr th:only-of-type {\n",
       "        vertical-align: middle;\n",
       "    }\n",
       "\n",
       "    .dataframe tbody tr th {\n",
       "        vertical-align: top;\n",
       "    }\n",
       "\n",
       "    .dataframe thead th {\n",
       "        text-align: right;\n",
       "    }\n",
       "</style>\n",
       "<table border=\"1\" class=\"dataframe\">\n",
       "  <thead>\n",
       "    <tr style=\"text-align: right;\">\n",
       "      <th></th>\n",
       "      <th>City</th>\n",
       "      <th>Province</th>\n",
       "      <th>Population(2021)</th>\n",
       "      <th>Rent_1Bedroom</th>\n",
       "      <th>Rent_2Bedroom</th>\n",
       "    </tr>\n",
       "  </thead>\n",
       "  <tbody>\n",
       "    <tr>\n",
       "      <th>1</th>\n",
       "      <td>Vancouver</td>\n",
       "      <td>British Columbia</td>\n",
       "      <td>662248</td>\n",
       "      <td>2531.0</td>\n",
       "      <td>3430.0</td>\n",
       "    </tr>\n",
       "    <tr>\n",
       "      <th>5</th>\n",
       "      <td>Toronto</td>\n",
       "      <td>Ontario</td>\n",
       "      <td>2794356</td>\n",
       "      <td>2313.0</td>\n",
       "      <td>2929.0</td>\n",
       "    </tr>\n",
       "    <tr>\n",
       "      <th>10</th>\n",
       "      <td>Mississauga</td>\n",
       "      <td>Ontario</td>\n",
       "      <td>717961</td>\n",
       "      <td>2174.0</td>\n",
       "      <td>2605.0</td>\n",
       "    </tr>\n",
       "    <tr>\n",
       "      <th>20</th>\n",
       "      <td>Ottawa</td>\n",
       "      <td>Ontario</td>\n",
       "      <td>1017449</td>\n",
       "      <td>2020.0</td>\n",
       "      <td>2578.0</td>\n",
       "    </tr>\n",
       "    <tr>\n",
       "      <th>25</th>\n",
       "      <td>Brampton</td>\n",
       "      <td>Ontario</td>\n",
       "      <td>656480</td>\n",
       "      <td>1919.0</td>\n",
       "      <td>2276.0</td>\n",
       "    </tr>\n",
       "    <tr>\n",
       "      <th>37</th>\n",
       "      <td>Montreal</td>\n",
       "      <td>Quebec</td>\n",
       "      <td>1762949</td>\n",
       "      <td>1724.0</td>\n",
       "      <td>2236.0</td>\n",
       "    </tr>\n",
       "    <tr>\n",
       "      <th>38</th>\n",
       "      <td>Hamilton</td>\n",
       "      <td>Ontario</td>\n",
       "      <td>569353</td>\n",
       "      <td>1720.0</td>\n",
       "      <td>2097.0</td>\n",
       "    </tr>\n",
       "    <tr>\n",
       "      <th>45</th>\n",
       "      <td>Calgary</td>\n",
       "      <td>Alberta</td>\n",
       "      <td>1306784</td>\n",
       "      <td>1588.0</td>\n",
       "      <td>1928.0</td>\n",
       "    </tr>\n",
       "    <tr>\n",
       "      <th>49</th>\n",
       "      <td>Winnipeg</td>\n",
       "      <td>Manitoba</td>\n",
       "      <td>749607</td>\n",
       "      <td>1428.0</td>\n",
       "      <td>1725.0</td>\n",
       "    </tr>\n",
       "    <tr>\n",
       "      <th>52</th>\n",
       "      <td>Edmonton</td>\n",
       "      <td>Alberta</td>\n",
       "      <td>1010899</td>\n",
       "      <td>1310.0</td>\n",
       "      <td>1656.0</td>\n",
       "    </tr>\n",
       "  </tbody>\n",
       "</table>\n",
       "</div>"
      ],
      "text/plain": [
       "           City          Province  Population(2021)  Rent_1Bedroom  \\\n",
       "1     Vancouver  British Columbia            662248         2531.0   \n",
       "5       Toronto           Ontario           2794356         2313.0   \n",
       "10  Mississauga           Ontario            717961         2174.0   \n",
       "20       Ottawa           Ontario           1017449         2020.0   \n",
       "25     Brampton           Ontario            656480         1919.0   \n",
       "37     Montreal            Quebec           1762949         1724.0   \n",
       "38     Hamilton           Ontario            569353         1720.0   \n",
       "45      Calgary           Alberta           1306784         1588.0   \n",
       "49     Winnipeg          Manitoba            749607         1428.0   \n",
       "52     Edmonton           Alberta           1010899         1310.0   \n",
       "\n",
       "    Rent_2Bedroom  \n",
       "1          3430.0  \n",
       "5          2929.0  \n",
       "10         2605.0  \n",
       "20         2578.0  \n",
       "25         2276.0  \n",
       "37         2236.0  \n",
       "38         2097.0  \n",
       "45         1928.0  \n",
       "49         1725.0  \n",
       "52         1656.0  "
      ]
     },
     "execution_count": 11,
     "metadata": {},
     "output_type": "execute_result"
    }
   ],
   "source": [
    "df_final"
   ]
  },
  {
   "cell_type": "code",
   "execution_count": 12,
   "id": "eb346135",
   "metadata": {},
   "outputs": [
    {
     "name": "stdout",
     "output_type": "stream",
     "text": [
      "✅ CSV file 'city_rent_population.csv' created successfully.\n"
     ]
    }
   ],
   "source": [
    "# Save to a new CSV file\n",
    "df_final.to_csv(\"Output/city_rent_population.csv\", index=False)\n",
    "print(\"✅ CSV file 'city_rent_population.csv' created successfully.\")"
   ]
  }
 ],
 "metadata": {
  "kernelspec": {
   "display_name": "Python 3 (ipykernel)",
   "language": "python",
   "name": "python3"
  },
  "language_info": {
   "codemirror_mode": {
    "name": "ipython",
    "version": 3
   },
   "file_extension": ".py",
   "mimetype": "text/x-python",
   "name": "python",
   "nbconvert_exporter": "python",
   "pygments_lexer": "ipython3",
   "version": "3.11.5"
  }
 },
 "nbformat": 4,
 "nbformat_minor": 5
}
